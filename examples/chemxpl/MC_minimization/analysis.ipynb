{
 "cells": [
  {
   "cell_type": "code",
   "execution_count": 1,
   "metadata": {},
   "outputs": [
    {
     "name": "stderr",
     "output_type": "stream",
     "text": [
      "[18:55:59] Enabling RDKit 2019.09.3 jupyter extensions\n",
      "RDKit WARNING: [18:55:59] Enabling RDKit 2019.09.3 jupyter extensions\n"
     ]
    }
   ],
   "source": [
    "\n",
    "from bmapqml.utils import analyze_random_walk\n",
    "import numpy as np\n",
    "\n",
    "from bmapqml.chemxpl.minimized_functions import QM9_properties,multi_obj,Rdkit_properties\n",
    "path = \"/home/jan/projects/MOLOPT/do_sim/bias/both/9/\"\n",
    "ana = analyze_random_walk(\"{}\".format(path)+\"QM9_histogram.pkl\",\"{}\".format(path)+\"QM9_best_candidates.pkl\" )\n",
    "\n",
    "WEIGHTS = np.array([ (1/1.9), (1/6.8)])\n",
    "\n",
    "min_func = multi_obj(\n",
    "    [QM9_properties(\"/store/common/jan/qm9/KRR_12000_atomization\",verbose=False),QM9_properties(\"/store/common/jan/qm9/KRR_12000_gap\",verbose=False)\n",
    "], WEIGHTS, verbose=True)\n"
   ]
  },
  {
   "cell_type": "code",
   "execution_count": 5,
   "metadata": {},
   "outputs": [
    {
     "name": "stdout",
     "output_type": "stream",
     "text": [
      "SMILE: CCCCCCCCN v1 -1.9783090435477597 v2 8.651974443278005\n"
     ]
    },
    {
     "data": {
      "text/plain": [
       "0.23113389675723273"
      ]
     },
     "execution_count": 5,
     "metadata": {},
     "output_type": "execute_result"
    }
   ],
   "source": [
    "min_func.__call__(ana.tps[1])"
   ]
  },
  {
   "cell_type": "code",
   "execution_count": 9,
   "metadata": {},
   "outputs": [
    {
     "data": {
      "text/plain": [
       "array([-0.68427093, -0.68290036, -0.67865705, -0.66244964])"
      ]
     },
     "execution_count": 9,
     "metadata": {},
     "output_type": "execute_result"
    }
   ],
   "source": [
    "ana.saved_candidates_func_val"
   ]
  }
 ],
 "metadata": {
  "interpreter": {
   "hash": "a0b8a09b0d7b8979fd90004191bc182e95af24c401cc421e40f9d61d29fae369"
  },
  "kernelspec": {
   "display_name": "Python 3.8.12 ('chemvae')",
   "language": "python",
   "name": "python3"
  },
  "language_info": {
   "codemirror_mode": {
    "name": "ipython",
    "version": 3
   },
   "file_extension": ".py",
   "mimetype": "text/x-python",
   "name": "python",
   "nbconvert_exporter": "python",
   "pygments_lexer": "ipython3",
   "version": "3.8.12"
  },
  "orig_nbformat": 4
 },
 "nbformat": 4,
 "nbformat_minor": 2
}
